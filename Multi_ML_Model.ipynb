{
 "cells": [
  {
   "cell_type": "code",
   "execution_count": 2,
   "id": "14529606-aef3-4153-8cdc-16699ffd8424",
   "metadata": {},
   "outputs": [
    {
     "data": {
      "text/html": [
       "<div>\n",
       "<style scoped>\n",
       "    .dataframe tbody tr th:only-of-type {\n",
       "        vertical-align: middle;\n",
       "    }\n",
       "\n",
       "    .dataframe tbody tr th {\n",
       "        vertical-align: top;\n",
       "    }\n",
       "\n",
       "    .dataframe thead th {\n",
       "        text-align: right;\n",
       "    }\n",
       "</style>\n",
       "<table border=\"1\" class=\"dataframe\">\n",
       "  <thead>\n",
       "    <tr style=\"text-align: right;\">\n",
       "      <th></th>\n",
       "      <th>Transaction date</th>\n",
       "      <th>House age</th>\n",
       "      <th>Distance to the nearest MRT station</th>\n",
       "      <th>Number of convenience stores</th>\n",
       "      <th>Latitude</th>\n",
       "      <th>Longitude</th>\n",
       "      <th>House price of unit area</th>\n",
       "    </tr>\n",
       "  </thead>\n",
       "  <tbody>\n",
       "    <tr>\n",
       "      <th>0</th>\n",
       "      <td>2012-09-02 16:42:30.519336</td>\n",
       "      <td>13.3</td>\n",
       "      <td>4082.0150</td>\n",
       "      <td>8</td>\n",
       "      <td>25.007059</td>\n",
       "      <td>121.561694</td>\n",
       "      <td>6.488673</td>\n",
       "    </tr>\n",
       "    <tr>\n",
       "      <th>1</th>\n",
       "      <td>2012-09-04 22:52:29.919544</td>\n",
       "      <td>35.5</td>\n",
       "      <td>274.0144</td>\n",
       "      <td>2</td>\n",
       "      <td>25.012148</td>\n",
       "      <td>121.546990</td>\n",
       "      <td>24.970725</td>\n",
       "    </tr>\n",
       "    <tr>\n",
       "      <th>2</th>\n",
       "      <td>2012-09-05 01:10:52.349449</td>\n",
       "      <td>1.1</td>\n",
       "      <td>1978.6710</td>\n",
       "      <td>10</td>\n",
       "      <td>25.003850</td>\n",
       "      <td>121.528336</td>\n",
       "      <td>26.694267</td>\n",
       "    </tr>\n",
       "    <tr>\n",
       "      <th>3</th>\n",
       "      <td>2012-09-05 13:26:01.189083</td>\n",
       "      <td>22.2</td>\n",
       "      <td>1055.0670</td>\n",
       "      <td>5</td>\n",
       "      <td>24.962887</td>\n",
       "      <td>121.482178</td>\n",
       "      <td>38.091638</td>\n",
       "    </tr>\n",
       "    <tr>\n",
       "      <th>4</th>\n",
       "      <td>2012-09-06 08:29:47.910523</td>\n",
       "      <td>8.5</td>\n",
       "      <td>967.4000</td>\n",
       "      <td>6</td>\n",
       "      <td>25.011037</td>\n",
       "      <td>121.479946</td>\n",
       "      <td>21.654710</td>\n",
       "    </tr>\n",
       "  </tbody>\n",
       "</table>\n",
       "</div>"
      ],
      "text/plain": [
       "             Transaction date  House age  Distance to the nearest MRT station  \\\n",
       "0  2012-09-02 16:42:30.519336       13.3                            4082.0150   \n",
       "1  2012-09-04 22:52:29.919544       35.5                             274.0144   \n",
       "2  2012-09-05 01:10:52.349449        1.1                            1978.6710   \n",
       "3  2012-09-05 13:26:01.189083       22.2                            1055.0670   \n",
       "4  2012-09-06 08:29:47.910523        8.5                             967.4000   \n",
       "\n",
       "   Number of convenience stores   Latitude   Longitude  \\\n",
       "0                             8  25.007059  121.561694   \n",
       "1                             2  25.012148  121.546990   \n",
       "2                            10  25.003850  121.528336   \n",
       "3                             5  24.962887  121.482178   \n",
       "4                             6  25.011037  121.479946   \n",
       "\n",
       "   House price of unit area  \n",
       "0                  6.488673  \n",
       "1                 24.970725  \n",
       "2                 26.694267  \n",
       "3                 38.091638  \n",
       "4                 21.654710  "
      ]
     },
     "execution_count": 2,
     "metadata": {},
     "output_type": "execute_result"
    }
   ],
   "source": [
    "import pandas as pd\n",
    "data = pd.read_csv('Real_Estate.csv')\n",
    "data.head()"
   ]
  },
  {
   "cell_type": "code",
   "execution_count": 4,
   "id": "a2a6cab0-7190-442e-9813-cd76fe9f5bec",
   "metadata": {},
   "outputs": [
    {
     "name": "stdout",
     "output_type": "stream",
     "text": [
      "<class 'pandas.core.frame.DataFrame'>\n",
      "RangeIndex: 414 entries, 0 to 413\n",
      "Data columns (total 7 columns):\n",
      " #   Column                               Non-Null Count  Dtype  \n",
      "---  ------                               --------------  -----  \n",
      " 0   Transaction date                     414 non-null    object \n",
      " 1   House age                            414 non-null    float64\n",
      " 2   Distance to the nearest MRT station  414 non-null    float64\n",
      " 3   Number of convenience stores         414 non-null    int64  \n",
      " 4   Latitude                             414 non-null    float64\n",
      " 5   Longitude                            414 non-null    float64\n",
      " 6   House price of unit area             414 non-null    float64\n",
      "dtypes: float64(5), int64(1), object(1)\n",
      "memory usage: 22.8+ KB\n"
     ]
    }
   ],
   "source": [
    "data.info()"
   ]
  },
  {
   "cell_type": "code",
   "execution_count": 6,
   "id": "abb8b5ad-ab6b-456a-b262-eb252537667c",
   "metadata": {},
   "outputs": [],
   "source": [
    "import datetime\n",
    "data['Transaction date'] = pd.to_datetime(data['Transaction date'])\n",
    "data['Transaction year'] = data['Transaction date'].dt.year\n",
    "data['Transaction month'] = data['Transaction date'].dt.month\n",
    "data = data.drop(columns = ['Transaction date'])\n"
   ]
  },
  {
   "cell_type": "code",
   "execution_count": 13,
   "id": "8b0f2900-9437-4813-b8b1-a28b6b140333",
   "metadata": {},
   "outputs": [
    {
     "data": {
      "text/plain": [
       "(331, 7)"
      ]
     },
     "execution_count": 13,
     "metadata": {},
     "output_type": "execute_result"
    }
   ],
   "source": [
    "from sklearn.model_selection import train_test_split\n",
    "from sklearn.preprocessing import StandardScaler\n",
    "X = data.drop('House price of unit area',axis =1)\n",
    "y = data['House price of unit area']\n",
    "\n",
    "X_train,X_test,y_train,y_test= train_test_split(X,y,test_size = 0.2,random_state = 42)\n",
    "\n",
    "scaler = StandardScaler()\n",
    "X_trained_Scaled = scaler.fit_transform(X_train)\n",
    "X_test_Scaled = scaler.transform(X_test)\n",
    "\n",
    "X_trained_Scaled.shape"
   ]
  },
  {
   "cell_type": "code",
   "execution_count": 14,
   "id": "c3634cf9-4f79-449d-af6c-70795c47b5b2",
   "metadata": {},
   "outputs": [
    {
     "data": {
      "text/plain": [
       "(83, 7)"
      ]
     },
     "execution_count": 14,
     "metadata": {},
     "output_type": "execute_result"
    }
   ],
   "source": [
    "X_test_Scaled.shape"
   ]
  },
  {
   "cell_type": "code",
   "execution_count": 16,
   "id": "88549e16-6552-4adb-bcb0-885339ef39dd",
   "metadata": {},
   "outputs": [
    {
     "data": {
      "text/html": [
       "<div>\n",
       "<style scoped>\n",
       "    .dataframe tbody tr th:only-of-type {\n",
       "        vertical-align: middle;\n",
       "    }\n",
       "\n",
       "    .dataframe tbody tr th {\n",
       "        vertical-align: top;\n",
       "    }\n",
       "\n",
       "    .dataframe thead th {\n",
       "        text-align: right;\n",
       "    }\n",
       "</style>\n",
       "<table border=\"1\" class=\"dataframe\">\n",
       "  <thead>\n",
       "    <tr style=\"text-align: right;\">\n",
       "      <th></th>\n",
       "      <th>MAE</th>\n",
       "      <th>R2 Score</th>\n",
       "    </tr>\n",
       "  </thead>\n",
       "  <tbody>\n",
       "    <tr>\n",
       "      <th>LinearRegression</th>\n",
       "      <td>9.748246</td>\n",
       "      <td>0.529615</td>\n",
       "    </tr>\n",
       "    <tr>\n",
       "      <th>Decision Tree</th>\n",
       "      <td>11.760342</td>\n",
       "      <td>0.204962</td>\n",
       "    </tr>\n",
       "    <tr>\n",
       "      <th>Random Forest</th>\n",
       "      <td>9.887601</td>\n",
       "      <td>0.509547</td>\n",
       "    </tr>\n",
       "    <tr>\n",
       "      <th>Gradient Boosting</th>\n",
       "      <td>10.000117</td>\n",
       "      <td>0.476071</td>\n",
       "    </tr>\n",
       "  </tbody>\n",
       "</table>\n",
       "</div>"
      ],
      "text/plain": [
       "                         MAE  R2 Score\n",
       "LinearRegression    9.748246  0.529615\n",
       "Decision Tree      11.760342  0.204962\n",
       "Random Forest       9.887601  0.509547\n",
       "Gradient Boosting  10.000117  0.476071"
      ]
     },
     "execution_count": 16,
     "metadata": {},
     "output_type": "execute_result"
    }
   ],
   "source": [
    "from sklearn.linear_model import LinearRegression\n",
    "from sklearn.tree import DecisionTreeRegressor\n",
    "from sklearn.ensemble import RandomForestRegressor, GradientBoostingRegressor\n",
    "from sklearn.metrics import mean_absolute_error, r2_score\n",
    "\n",
    "models = {\n",
    "    \"LinearRegression\":LinearRegression(),\n",
    "    \"Decision Tree\": DecisionTreeRegressor(random_state=42),\n",
    "    \"Random Forest\": RandomForestRegressor(random_state = 42),\n",
    "    \"Gradient Boosting\": GradientBoostingRegressor(random_state = 42)\n",
    "}\n",
    "results = {}\n",
    "\n",
    "for name,model in models.items():\n",
    "    model.fit(X_trained_Scaled,y_train)\n",
    "    predictions = model.predict(X_test_Scaled)\n",
    "    mae = mean_absolute_error(y_test,predictions)\n",
    "    r2 = r2_score(y_test,predictions)\n",
    "    results[name] = {\"MAE\": mae,\"R2 Score\": r2}\n",
    "result_df = pd.DataFrame(results).T\n",
    "result_df"
   ]
  }
 ],
 "metadata": {
  "kernelspec": {
   "display_name": "Python 3 (ipykernel)",
   "language": "python",
   "name": "python3"
  },
  "language_info": {
   "codemirror_mode": {
    "name": "ipython",
    "version": 3
   },
   "file_extension": ".py",
   "mimetype": "text/x-python",
   "name": "python",
   "nbconvert_exporter": "python",
   "pygments_lexer": "ipython3",
   "version": "3.12.4"
  }
 },
 "nbformat": 4,
 "nbformat_minor": 5
}
